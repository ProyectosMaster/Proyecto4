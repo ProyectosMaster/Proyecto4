{
 "cells": [
  {
   "cell_type": "code",
   "execution_count": 1,
   "id": "187acdca-d93a-4ebf-aeb7-9a7507653319",
   "metadata": {},
   "outputs": [
    {
     "name": "stderr",
     "output_type": "stream",
     "text": [
      "/opt/conda/envs/recommender-env/lib/python3.9/site-packages/tqdm/auto.py:21: TqdmWarning: IProgress not found. Please update jupyter and ipywidgets. See https://ipywidgets.readthedocs.io/en/stable/user_install.html\n",
      "  from .autonotebook import tqdm as notebook_tqdm\n"
     ]
    },
    {
     "data": {
      "text/html": [
       "\n",
       "            <div>\n",
       "                <ins><a href=\"https://ydata.ai/register\">Upgrade to ydata-sdk</a></ins>\n",
       "                <p>\n",
       "                    Improve your data and profiling with ydata-sdk, featuring data quality scoring, redundancy detection, outlier identification, text validation, and synthetic data generation.\n",
       "                </p>\n",
       "            </div>\n",
       "            "
      ],
      "text/plain": [
       "<IPython.core.display.HTML object>"
      ]
     },
     "metadata": {},
     "output_type": "display_data"
    }
   ],
   "source": [
    "import pandas as pd\n",
    "from ydata_profiling import ProfileReport\n",
    "from pyspark.sql import SparkSession\n",
    "\n",
    "spark = SparkSession.builder.appName(\"EDA-Recommender\").getOrCreate()"
   ]
  },
  {
   "cell_type": "code",
   "execution_count": null,
   "id": "4f7a3950-9b4f-4674-89bc-2f79521dab62",
   "metadata": {},
   "outputs": [],
   "source": [
    "# movies = spark.read.csv(\"../data/raw_data/peliculas.csv\", header=True, inferSchema=True, sep=\",\")\n",
    "# ratings = spark.read.csv(\"../data/raw_data/ratings.csv\", header=True, inferSchema=True, sep=\",\")\n",
    "# links = spark.read.csv(\"../data/raw_data/links.csv\", header=True, inferSchema=True, sep=\",\")"
   ]
  },
  {
   "cell_type": "code",
   "execution_count": null,
   "id": "43b16d60-f21b-4e03-90f4-08d0fe72f6dc",
   "metadata": {},
   "outputs": [],
   "source": [
    "# movies_pd = movies.limit(10000).toPandas()  # evita cargar todo por memoria\n",
    "# movies_pd = movies.toPandas()\n",
    "# movies_pd = pd.read_csv(\"../data/raw_data/peliculas.csv\")"
   ]
  },
  {
   "cell_type": "code",
   "execution_count": 2,
   "id": "8f8ef1cf-8a75-4748-aabd-9769c77ba7c3",
   "metadata": {},
   "outputs": [],
   "source": [
    "movies_pd = pd.read_csv(\"../data/raw_data/peliculas.csv\")\n",
    "# ratings_pd = pd.read_csv(\"../data/raw_data/ratings.csv\")\n",
    "# links_pd = pd.read_csv(\"../data/raw_data/links.csv\")\n",
    "movies = spark.createDataFrame(movies_pd)\n",
    "# ratings = spark.createDataFrame(ratings_pd)\n",
    "# links = spark.createDataFrame(links_pd)"
   ]
  },
  {
   "cell_type": "code",
   "execution_count": 3,
   "id": "9d62123d-6846-4b89-8d7b-dc98e7b6d05b",
   "metadata": {},
   "outputs": [
    {
     "name": "stderr",
     "output_type": "stream",
     "text": [
      "Summarize dataset:   6%|▋         | 1/16 [00:00<00:05,  2.80it/s, Describe variable: id]          \n",
      "Summarize dataset:  19%|█▉        | 3/16 [00:01<00:06,  1.96it/s, Describe variable: id]\n",
      "Summarize dataset:  25%|██▌       | 4/16 [00:01<00:05,  2.17it/s, Describe variable: id]\n",
      "Summarize dataset:  56%|█████▋    | 9/16 [00:02<00:01,  5.46it/s, Describe variable: id]\n",
      "Summarize dataset:  69%|██████▉   | 11/16 [00:05<00:04,  1.15it/s, Describe variable: id]\n",
      "100%|██████████| 11/11 [00:04<00:00,  2.40it/s]\n",
      "Summarize dataset: 100%|██████████| 30/30 [00:07<00:00,  4.12it/s, Completed]                         \n",
      "Generate report structure: 100%|██████████| 1/1 [00:05<00:00,  5.33s/it]\n",
      "Render HTML: 100%|██████████| 1/1 [00:00<00:00,  1.33it/s]\n",
      "Export report to file: 100%|██████████| 1/1 [00:00<00:00, 37.56it/s]\n"
     ]
    }
   ],
   "source": [
    "profile = ProfileReport(movies_pd, title=\"Movies Profiling Report\")\n",
    "profile.to_file(\"../data/raw_data/peliculas_report.html\")"
   ]
  },
  {
   "cell_type": "code",
   "execution_count": null,
   "id": "7a6471ac-6b47-4d4f-9d3d-e972b8d3e6ae",
   "metadata": {},
   "outputs": [],
   "source": []
  }
 ],
 "metadata": {
  "kernelspec": {
   "display_name": "Python 3 (ipykernel)",
   "language": "python",
   "name": "python3"
  },
  "language_info": {
   "codemirror_mode": {
    "name": "ipython",
    "version": 3
   },
   "file_extension": ".py",
   "mimetype": "text/x-python",
   "name": "python",
   "nbconvert_exporter": "python",
   "pygments_lexer": "ipython3",
   "version": "3.9.21"
  }
 },
 "nbformat": 4,
 "nbformat_minor": 5
}
