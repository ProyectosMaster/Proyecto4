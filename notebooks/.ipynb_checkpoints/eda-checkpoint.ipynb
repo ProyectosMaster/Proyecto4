{
 "cells": [
  {
   "cell_type": "code",
   "execution_count": 1,
   "id": "187acdca-d93a-4ebf-aeb7-9a7507653319",
   "metadata": {},
   "outputs": [
    {
     "name": "stderr",
     "output_type": "stream",
     "text": [
      "/opt/conda/envs/recommender-env/lib/python3.9/site-packages/tqdm/auto.py:21: TqdmWarning: IProgress not found. Please update jupyter and ipywidgets. See https://ipywidgets.readthedocs.io/en/stable/user_install.html\n",
      "  from .autonotebook import tqdm as notebook_tqdm\n"
     ]
    },
    {
     "data": {
      "text/html": [
       "\n",
       "            <div>\n",
       "                <ins><a href=\"https://ydata.ai/register\">Upgrade to ydata-sdk</a></ins>\n",
       "                <p>\n",
       "                    Improve your data and profiling with ydata-sdk, featuring data quality scoring, redundancy detection, outlier identification, text validation, and synthetic data generation.\n",
       "                </p>\n",
       "            </div>\n",
       "            "
      ],
      "text/plain": [
       "<IPython.core.display.HTML object>"
      ]
     },
     "metadata": {},
     "output_type": "display_data"
    }
   ],
   "source": [
    "import pandas as pd\n",
    "from ydata_profiling import ProfileReport\n",
    "from pyspark.sql import SparkSession\n",
    "\n",
    "spark = SparkSession.builder.appName(\"EDA-Recommender\").getOrCreate()"
   ]
  },
  {
   "cell_type": "markdown",
   "id": "8918eaae-5f65-4b69-a9d8-a01f229a7ac9",
   "metadata": {},
   "source": [
    "Genera el Profile Report"
   ]
  },
  {
   "cell_type": "code",
   "execution_count": 2,
   "id": "c6ef423c-94dc-4ae2-b8b8-72f2dc2ce0ec",
   "metadata": {},
   "outputs": [
    {
     "name": "stderr",
     "output_type": "stream",
     "text": [
      "Summarize dataset:   0%|          | 0/16 [00:00<?, ?it/s, Describe variable: id]                  \n",
      "Summarize dataset:   6%|▋         | 1/16 [00:00<00:14,  1.03it/s, Describe variable: id]\n",
      "Summarize dataset:  12%|█▎        | 2/16 [00:01<00:08,  1.56it/s, Describe variable: id]\n",
      "Summarize dataset:  19%|█▉        | 3/16 [00:01<00:06,  2.12it/s, Describe variable: id]\n",
      "Summarize dataset:  44%|████▍     | 7/16 [00:02<00:03,  2.94it/s, Describe variable: id]\n",
      "Summarize dataset:  69%|██████▉   | 11/16 [00:06<00:03,  1.27it/s, Describe variable: id]\n",
      "100%|██████████| 11/11 [00:05<00:00,  2.00it/s]\n",
      "Summarize dataset: 100%|██████████| 30/30 [00:08<00:00,  3.69it/s, Completed]                         \n",
      "Generate report structure: 100%|██████████| 1/1 [00:05<00:00,  5.01s/it]\n",
      "Render HTML: 100%|██████████| 1/1 [00:00<00:00,  1.20it/s]\n",
      "Export report to file: 100%|██████████| 1/1 [00:00<00:00, 40.44it/s]\n"
     ]
    }
   ],
   "source": [
    "movies_pd = pd.read_csv(\"../data/raw_data/peliculas.csv\")\n",
    "profile = ProfileReport(movies_pd, title=\"Movies Profiling Report\")\n",
    "profile.to_file(\"../data/ProfileReport/peliculas_report.html\")"
   ]
  },
  {
   "cell_type": "code",
   "execution_count": 3,
   "id": "4f7a3950-9b4f-4674-89bc-2f79521dab62",
   "metadata": {},
   "outputs": [],
   "source": [
    "movies = spark.read.csv(\"../data/raw_data/peliculas.csv\", header=True, inferSchema=True, sep=\",\")\n",
    "ratings = spark.read.csv(\"../data/raw_data/ratings.csv\", header=True, inferSchema=True, sep=\",\")\n",
    "links = spark.read.csv(\"../data/raw_data/links.csv\", header=True, inferSchema=True, sep=\",\")"
   ]
  },
  {
   "cell_type": "markdown",
   "id": "725e23b8-fd5d-43fb-a6e7-db3e0b6078bb",
   "metadata": {},
   "source": [
    "Limpieza de datos"
   ]
  },
  {
   "cell_type": "code",
   "execution_count": 4,
   "id": "7a6471ac-6b47-4d4f-9d3d-e972b8d3e6ae",
   "metadata": {},
   "outputs": [],
   "source": [
    "from pyspark.sql.functions import col, split, trim"
   ]
  },
  {
   "cell_type": "code",
   "execution_count": 8,
   "id": "5dd49d31-2d5e-4804-9a55-1913d99d8da6",
   "metadata": {},
   "outputs": [
    {
     "name": "stdout",
     "output_type": "stream",
     "text": [
      "root\n",
      " |-- adult: string (nullable = true)\n",
      " |-- genres: string (nullable = true)\n",
      " |-- tmdbId: string (nullable = true)\n",
      " |-- title: string (nullable = true)\n",
      " |-- overview: string (nullable = true)\n",
      " |-- poster_path: string (nullable = true)\n",
      " |-- production_companies: string (nullable = true)\n",
      " |-- release_date: string (nullable = true)\n",
      " |-- vote_average: string (nullable = true)\n",
      " |-- vote_count: string (nullable = true)\n",
      " |-- id: string (nullable = true)\n",
      "\n"
     ]
    }
   ],
   "source": [
    "movies.printSchema()"
   ]
  },
  {
   "cell_type": "code",
   "execution_count": 21,
   "id": "ee86b2cb-41bf-46fb-95e8-3b48a97c1755",
   "metadata": {},
   "outputs": [
    {
     "name": "stdout",
     "output_type": "stream",
     "text": [
      "+-----+--------------------+------+---------+--------------------+-------------+--------------------+------------+------------+----------+---+\n",
      "|adult|              genres|tmdbId|    title|            overview|  poster_path|production_companies|release_date|vote_average|vote_count| id|\n",
      "+-----+--------------------+------+---------+--------------------+-------------+--------------------+------------+------------+----------+---+\n",
      "|False|[{'id': 16, 'name...|   862|Toy Story|Led by Woody, And...|posters\\1.jpg|[{'name': 'Pixar ...|  1995-10-30|         7.7|    5415.0|  1|\n",
      "|False|[{'id': 12, 'name...|  8844|  Jumanji|When siblings Jud...|posters\\2.jpg|[{'name': 'TriSta...|  1995-12-15|         6.9|    2413.0|  2|\n",
      "+-----+--------------------+------+---------+--------------------+-------------+--------------------+------------+------------+----------+---+\n",
      "only showing top 2 rows\n",
      "\n",
      "45572\n"
     ]
    }
   ],
   "source": [
    "movies.show(1)\n",
    "print(movies.count())"
   ]
  },
  {
   "cell_type": "code",
   "execution_count": 23,
   "id": "8d7e72e1-067a-46d3-8928-be1c89908f18",
   "metadata": {},
   "outputs": [
    {
     "name": "stdout",
     "output_type": "stream",
     "text": [
      "+--------------------+-----+\n",
      "|               adult|count|\n",
      "+--------------------+-----+\n",
      "|               False|45454|\n",
      "| The Warlock atte...|    1|\n",
      "| Playing Gulley J...|    1|\n",
      "| A college frater...|    1|\n",
      "| Riding the coatt...|    1|\n",
      "| Directed by Paul...|    1|\n",
      "| Combining a vici...|    1|\n",
      "| As the main char...|    1|\n",
      "| - Written by Jam...|    1|\n",
      "| But this film is...|    1|\n",
      "|         In New York|    1|\n",
      "| Fearing that thi...|    1|\n",
      "| Fly with the bra...|    1|\n",
      "| Very authentic m...|    1|\n",
      "| Claude heads to ...|    1|\n",
      "| It's the fiction...|    1|\n",
      "| When tragedy str...|    1|\n",
      "| The director of ...|    1|\n",
      "|   (from Wikipedia)\"|    1|\n",
      "| The film depicts...|    1|\n",
      "+--------------------+-----+\n",
      "only showing top 20 rows\n",
      "\n"
     ]
    }
   ],
   "source": [
    "movies.groupBy(\"adult\").count().show()"
   ]
  },
  {
   "cell_type": "code",
   "execution_count": 26,
   "id": "ddaf2c93-5328-48c7-881c-29f03619a893",
   "metadata": {},
   "outputs": [
    {
     "data": {
      "text/plain": [
       "9"
      ]
     },
     "execution_count": 26,
     "metadata": {},
     "output_type": "execute_result"
    }
   ],
   "source": [
    "movies.filter(movies.adult == True).count()"
   ]
  },
  {
   "cell_type": "code",
   "execution_count": 28,
   "id": "cd78c43d-e784-4a9b-bd60-d1f1c204997f",
   "metadata": {},
   "outputs": [],
   "source": [
    "movies_clean = movies.filter(\n",
    "    (movies.adult == True) | (movies.adult == False))"
   ]
  },
  {
   "cell_type": "code",
   "execution_count": 30,
   "id": "6b99cc70-6996-43d0-9506-30cbb97f8e3b",
   "metadata": {},
   "outputs": [
    {
     "data": {
      "text/plain": [
       "45463"
      ]
     },
     "execution_count": 30,
     "metadata": {},
     "output_type": "execute_result"
    }
   ],
   "source": [
    "movies_clean.count()"
   ]
  },
  {
   "cell_type": "code",
   "execution_count": null,
   "id": "3e2be8a5-6be3-458e-a90f-7680c3c608ff",
   "metadata": {},
   "outputs": [],
   "source": []
  }
 ],
 "metadata": {
  "kernelspec": {
   "display_name": "Python 3 (ipykernel)",
   "language": "python",
   "name": "python3"
  },
  "language_info": {
   "codemirror_mode": {
    "name": "ipython",
    "version": 3
   },
   "file_extension": ".py",
   "mimetype": "text/x-python",
   "name": "python",
   "nbconvert_exporter": "python",
   "pygments_lexer": "ipython3",
   "version": "3.9.21"
  }
 },
 "nbformat": 4,
 "nbformat_minor": 5
}
